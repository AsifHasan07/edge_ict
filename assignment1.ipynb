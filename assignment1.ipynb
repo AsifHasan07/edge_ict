{
  "nbformat": 4,
  "nbformat_minor": 0,
  "metadata": {
    "colab": {
      "provenance": [],
      "authorship_tag": "ABX9TyMF0NBP38uoVMlESAEcwleI",
      "include_colab_link": true
    },
    "kernelspec": {
      "name": "python3",
      "display_name": "Python 3"
    },
    "language_info": {
      "name": "python"
    }
  },
  "cells": [
    {
      "cell_type": "markdown",
      "metadata": {
        "id": "view-in-github",
        "colab_type": "text"
      },
      "source": [
        "<a href=\"https://colab.research.google.com/github/AsifHasan07/edge_ict/blob/main/assignment1.ipynb\" target=\"_parent\"><img src=\"https://colab.research.google.com/assets/colab-badge.svg\" alt=\"Open In Colab\"/></a>"
      ]
    },
    {
      "cell_type": "code",
      "execution_count": null,
      "metadata": {
        "id": "R_bydHgLxL7B"
      },
      "outputs": [],
      "source": []
    },
    {
      "cell_type": "code",
      "execution_count": null,
      "metadata": {
        "colab": {
          "base_uri": "https://localhost:8080/"
        },
        "id": "7afDD0fNhyVX",
        "outputId": "38fefac3-c766-480d-84c0-506b676ab5f0"
      },
      "outputs": [
        {
          "output_type": "stream",
          "name": "stdout",
          "text": [
            "Hi\n"
          ]
        }
      ],
      "source": [
        "print(\"Hi\")"
      ]
    },
    {
      "cell_type": "code",
      "source": [],
      "metadata": {
        "id": "B1QWxb-ji0sE"
      },
      "execution_count": null,
      "outputs": []
    },
    {
      "cell_type": "code",
      "source": [],
      "metadata": {
        "id": "foSvsnoYi2h6"
      },
      "execution_count": null,
      "outputs": []
    },
    {
      "cell_type": "code",
      "source": [
        "x= 7\n",
        "y='Asif'\n",
        "print(x)\n",
        "print(y)"
      ],
      "metadata": {
        "colab": {
          "base_uri": "https://localhost:8080/"
        },
        "id": "WIGOyBlAi5K4",
        "outputId": "55150774-501b-4d66-9db7-a12aa2dbde4e"
      },
      "execution_count": null,
      "outputs": [
        {
          "output_type": "stream",
          "name": "stdout",
          "text": [
            "7\n",
            "Asif\n"
          ]
        }
      ]
    },
    {
      "cell_type": "code",
      "source": [],
      "metadata": {
        "id": "ccsdZkmfoU_o"
      },
      "execution_count": null,
      "outputs": []
    },
    {
      "cell_type": "code",
      "source": [
        "x = str(7) # this is string\n",
        "y = int(7) # this is integer\n",
        "z = float(7) # this is float\n",
        "print(type(x),type(y),type(z))"
      ],
      "metadata": {
        "colab": {
          "base_uri": "https://localhost:8080/"
        },
        "id": "oCbDglQJjHNd",
        "outputId": "2b1a676b-4fbd-404b-9340-bbf38614dad6"
      },
      "execution_count": null,
      "outputs": [
        {
          "output_type": "stream",
          "name": "stdout",
          "text": [
            "<class 'str'> <class 'int'> <class 'float'>\n"
          ]
        }
      ]
    },
    {
      "cell_type": "code",
      "source": [
        "# Cammel Case\n",
        "firstName = input('Your first name :')\n",
        "lastName = input(\"Your last name :\")\n",
        "print(f'Your full name is {firstName} {lastName}')\n",
        "\n"
      ],
      "metadata": {
        "colab": {
          "base_uri": "https://localhost:8080/"
        },
        "id": "qL1CSiFdjlU5",
        "outputId": "e91cf0cf-a35c-4fd1-c65a-6f84f8421b8f"
      },
      "execution_count": null,
      "outputs": [
        {
          "output_type": "stream",
          "name": "stdout",
          "text": [
            "Your first name :Asif\n",
            "Your last name :Hasan\n",
            "Your full name is Asif Hasan\n"
          ]
        }
      ]
    },
    {
      "cell_type": "code",
      "source": [
        "# Getting sizes of data types\n",
        "import sys\n",
        "x,y,z = 1,str(2),b'3'\n",
        "print(f'value:{x} , type:{type(x)} , size: {sys.getsizeof(x)}')\n",
        "print(f'value:{y} , type:{type(y)} , size: {sys.getsizeof(y)}')\n",
        "print(f'value:{z} , type:{type(z)} , size: {sys.getsizeof(z)}')\n",
        "# print(x,sys.getsizeof(x))\n",
        "# print(y,sys.getsizeof(y))\n",
        "# print(z,sys.getsizeof(z))"
      ],
      "metadata": {
        "colab": {
          "base_uri": "https://localhost:8080/"
        },
        "id": "Va58lByLt3dY",
        "outputId": "452edc5d-a53a-4125-ade5-976ad2aa71ce"
      },
      "execution_count": null,
      "outputs": [
        {
          "output_type": "stream",
          "name": "stdout",
          "text": [
            "value:1 , type:<class 'int'> , size: 28\n",
            "value:2 , type:<class 'str'> , size: 50\n",
            "value:b'3' , type:<class 'bytes'> , size: 34\n"
          ]
        }
      ]
    },
    {
      "cell_type": "code",
      "source": [
        "# Assign same value in multiple variable\n",
        "\n",
        "x = y = z = \"pink\"\n",
        "print(x,y,z);"
      ],
      "metadata": {
        "colab": {
          "base_uri": "https://localhost:8080/"
        },
        "id": "A3lqmTyexXB6",
        "outputId": "23f0f478-3899-4315-a71f-ba50b95776f2"
      },
      "execution_count": null,
      "outputs": [
        {
          "output_type": "stream",
          "name": "stdout",
          "text": [
            "pink pink pink\n"
          ]
        }
      ]
    },
    {
      "cell_type": "code",
      "source": [
        "# f-string-literal\n",
        "name = 'Asif Hasan'\n",
        "age  = 24\n",
        "\n",
        "sentence1 = f\"My name is {name}. I am {age} years old.\"\n",
        "print(sentence1)\n",
        "# text-format\n",
        "sentence2 = \"My name is {} . I am {} year old\"\n",
        "print(sentence2.format(name,age))\n",
        "\n"
      ],
      "metadata": {
        "colab": {
          "base_uri": "https://localhost:8080/"
        },
        "id": "uen6evmm0YT9",
        "outputId": "384fc410-a8fd-46e1-ef6b-c257bc1b4ec2"
      },
      "execution_count": null,
      "outputs": [
        {
          "output_type": "stream",
          "name": "stdout",
          "text": [
            "My name is Asif Hasan. I am 24 years old.\n",
            "My name is Asif Hasan . I am 24 year old\n"
          ]
        }
      ]
    },
    {
      "cell_type": "code",
      "source": [
        "# Scope - global/local\n",
        "\n",
        "x = 'awesome'\n",
        "\n",
        "def myFunc():\n",
        "  global y\n",
        "  y = 'fantastic'\n",
        "\n",
        "  print(\"Python is \"+x) #using local x\n",
        "\n",
        "myFunc()\n",
        "\n",
        "\n",
        "print(\"Python is \"+y) #using global y\n",
        "\n"
      ],
      "metadata": {
        "colab": {
          "base_uri": "https://localhost:8080/"
        },
        "id": "Fp_dAF-W8asy",
        "outputId": "6636c297-001e-467f-9750-a9ab62ea2612"
      },
      "execution_count": null,
      "outputs": [
        {
          "output_type": "stream",
          "name": "stdout",
          "text": [
            "Python is awesome\n",
            "Python is fantastic\n"
          ]
        }
      ]
    },
    {
      "cell_type": "code",
      "source": [
        "#Data types\n",
        "dt_string = 'Hello world'\n",
        "dt_int = 20\n",
        "dt_float = 20.5\n",
        "dt_complex = 5j\n",
        "dt_list = ['apple','orange',True,20,55.5]\n",
        "dt_tupple = (\"apple\",'orange','cherry')\n",
        "dt_range = range(100)\n",
        "dt_dict = {\"name\":\"asif\",\"email\":\"asifhasan01609@gmail.com\",\"phone\":\"+8801316825495\"}\n",
        "dt_set = {'apple','orange','cherry'}\n",
        "dt_frozenSet = (dt_set)\n",
        "dt_bool = True\n",
        "dt_bytes = b\"Hello\"\n",
        "dt_byteArray = bytearray(5)\n",
        "dt_memoryView = memoryview(bytes(5))\n",
        "dt_NoneType = None\n",
        "\n",
        "\n",
        "dataTypes  = [dt_string,dt_int,\n",
        "                   dt_float,dt_complex,\n",
        "                   dt_list,dt_tupple,\n",
        "                   dt_range,dt_dict,\n",
        "                   dt_set,dt_frozenSet,\n",
        "                   dt_bool, dt_bytes,\n",
        "                   dt_byteArray,dt_memoryView,\n",
        "                   dt_NoneType\n",
        "                   ];\n",
        "\n",
        "for dataTypeValue in dataTypes:\n",
        "  print(f'Type:{type(dataTypeValue)} \\nValue: {dataTypeValue}\\n\\n')\n",
        "\n"
      ],
      "metadata": {
        "colab": {
          "base_uri": "https://localhost:8080/"
        },
        "id": "SYkFGcv7oXYY",
        "outputId": "21b258c9-f913-4d50-8f84-d3a93bff92cc"
      },
      "execution_count": null,
      "outputs": [
        {
          "output_type": "stream",
          "name": "stdout",
          "text": [
            "Type:<class 'str'> \n",
            "Value: Hello world\n",
            "\n",
            "\n",
            "Type:<class 'int'> \n",
            "Value: 20\n",
            "\n",
            "\n",
            "Type:<class 'float'> \n",
            "Value: 20.5\n",
            "\n",
            "\n",
            "Type:<class 'complex'> \n",
            "Value: 5j\n",
            "\n",
            "\n",
            "Type:<class 'list'> \n",
            "Value: ['apple', 'orange', True, 20, 55.5]\n",
            "\n",
            "\n",
            "Type:<class 'tuple'> \n",
            "Value: ('apple', 'orange', 'cherry')\n",
            "\n",
            "\n",
            "Type:<class 'range'> \n",
            "Value: range(0, 100)\n",
            "\n",
            "\n",
            "Type:<class 'dict'> \n",
            "Value: {'name': 'asif', 'email': 'asifhasan01609@gmail.com', 'phone': '+8801316825495'}\n",
            "\n",
            "\n",
            "Type:<class 'set'> \n",
            "Value: {'cherry', 'orange', 'apple'}\n",
            "\n",
            "\n",
            "Type:<class 'set'> \n",
            "Value: {'cherry', 'orange', 'apple'}\n",
            "\n",
            "\n",
            "Type:<class 'bool'> \n",
            "Value: True\n",
            "\n",
            "\n",
            "Type:<class 'bytes'> \n",
            "Value: b'Hello'\n",
            "\n",
            "\n",
            "Type:<class 'bytearray'> \n",
            "Value: bytearray(b'\\x00\\x00\\x00\\x00\\x00')\n",
            "\n",
            "\n",
            "Type:<class 'memoryview'> \n",
            "Value: <memory at 0x7c68848dc1c0>\n",
            "\n",
            "\n",
            "Type:<class 'NoneType'> \n",
            "Value: None\n",
            "\n",
            "\n"
          ]
        }
      ]
    },
    {
      "cell_type": "code",
      "source": [
        "# Checking ASCII charecters and ASCII values in a list\n",
        "[str(c)+\"=\"+chr(c) for c in range(ord('a'),ord('z')+1) if c%2 == 0]\n"
      ],
      "metadata": {
        "colab": {
          "base_uri": "https://localhost:8080/"
        },
        "id": "itvqjYUzC0GN",
        "outputId": "e42421eb-8f95-4ffa-e86e-095d702c4e6c"
      },
      "execution_count": null,
      "outputs": [
        {
          "output_type": "execute_result",
          "data": {
            "text/plain": [
              "['98=b',\n",
              " '100=d',\n",
              " '102=f',\n",
              " '104=h',\n",
              " '106=j',\n",
              " '108=l',\n",
              " '110=n',\n",
              " '112=p',\n",
              " '114=r',\n",
              " '116=t',\n",
              " '118=v',\n",
              " '120=x',\n",
              " '122=z']"
            ]
          },
          "metadata": {},
          "execution_count": 18
        }
      ]
    },
    {
      "cell_type": "code",
      "source": [
        "\n",
        "# Byte is memory efficient than string\n",
        "\n",
        "word_as_bytes = bytes(\"cafe\",\"utf-8\")\n",
        "word_as_string = \"cafe\"\n",
        "\n",
        "print(f\"Value: {word_as_string} , Type: {type(word_as_string)}, Size: {sys.getsizeof(word_as_string)}\")\n",
        "print(f\"Value: {word_as_bytes} , Type: {type(word_as_bytes)}, Size: {sys.getsizeof(word_as_bytes)}\")"
      ],
      "metadata": {
        "colab": {
          "base_uri": "https://localhost:8080/"
        },
        "id": "kkcgDxCUE_tv",
        "outputId": "74c7c616-769d-4527-f028-a81ca01addf2"
      },
      "execution_count": null,
      "outputs": [
        {
          "output_type": "stream",
          "name": "stdout",
          "text": [
            "Value: cafe , Type: <class 'str'>, Size: 53\n",
            "Value: b'cafe' , Type: <class 'bytes'>, Size: 37\n"
          ]
        }
      ]
    },
    {
      "cell_type": "code",
      "source": [
        "# Home work - who is missing in li1\n",
        "li = [i for i in range(10)]\n",
        "li1 = li[:2]+li[3:]\n",
        "\n",
        "for i in li:\n",
        "  k = i\n",
        "  for j in li1\n",
        "\n",
        "\n",
        "print(li)\n",
        "print(li[:2])\n",
        "print(li[3:])\n"
      ],
      "metadata": {
        "colab": {
          "base_uri": "https://localhost:8080/"
        },
        "id": "FFr4k3hMEFiC",
        "outputId": "801d7104-ef63-4020-8702-c06236198846"
      },
      "execution_count": null,
      "outputs": [
        {
          "output_type": "stream",
          "name": "stdout",
          "text": [
            "[0, 1, 2, 3, 4, 5, 6, 7, 8, 9]\n",
            "[0, 1]\n",
            "[3, 4, 5, 6, 7, 8, 9]\n"
          ]
        }
      ]
    }
  ]
}