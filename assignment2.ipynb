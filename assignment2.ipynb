{
  "nbformat": 4,
  "nbformat_minor": 0,
  "metadata": {
    "colab": {
      "provenance": [],
      "authorship_tag": "ABX9TyO0B2aO7VX9jYmDCiOOn5m2",
      "include_colab_link": true
    },
    "kernelspec": {
      "name": "python3",
      "display_name": "Python 3"
    },
    "language_info": {
      "name": "python"
    }
  },
  "cells": [
    {
      "cell_type": "markdown",
      "metadata": {
        "id": "view-in-github",
        "colab_type": "text"
      },
      "source": [
        "<a href=\"https://colab.research.google.com/github/AsifHasan07/edge_ict/blob/main/assignment2.ipynb\" target=\"_parent\"><img src=\"https://colab.research.google.com/assets/colab-badge.svg\" alt=\"Open In Colab\"/></a>"
      ]
    },
    {
      "cell_type": "code",
      "execution_count": 1,
      "metadata": {
        "colab": {
          "base_uri": "https://localhost:8080/"
        },
        "id": "9EGVOOr81Sjs",
        "outputId": "a7174649-a590-46d4-b5ba-d87d3ed9177d"
      },
      "outputs": [
        {
          "output_type": "stream",
          "name": "stdout",
          "text": [
            "No missing Val\n",
            "['Bananana', 'Cherry']\n"
          ]
        }
      ],
      "source": [
        "# Getting missing values from two array\n",
        "\n",
        "def getMissingVals(list, endOfFirstList, startOf2ndList):\n",
        "  first_list = list[:endOfFirstList]\n",
        "  second_list = list[startOf2ndList:]\n",
        "  merged_list = first_list + second_list\n",
        "\n",
        "  missing_list = []\n",
        "  for item in list:\n",
        "    if item not in merged_list:\n",
        "      missing_list.append(item)\n",
        "\n",
        "  if len(missing_list) == 0:\n",
        "    return  \"No missing Val\"\n",
        "  else:\n",
        "    return missing_list\n",
        "\n",
        "# Testing\n",
        "fruits = [\"Apple\",\"Bananana\",\"Cherry\",\"Mango\",\"Jackfruit\"]\n",
        "\n",
        "# When no missing value\n",
        "print(getMissingVals(fruits,1,1))\n",
        "\n",
        "# When some value is missing\n",
        "print(getMissingVals(fruits,1,3))\n"
      ]
    }
  ]
}